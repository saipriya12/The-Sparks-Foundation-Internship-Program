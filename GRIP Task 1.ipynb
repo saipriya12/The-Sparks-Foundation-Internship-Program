{
 "cells": [
  {
   "cell_type": "markdown",
   "id": "21b42440",
   "metadata": {},
   "source": [
    "NAME - SAIPRIYA HEMACHANDRAN"
   ]
  },
  {
   "cell_type": "markdown",
   "id": "9a634a40",
   "metadata": {},
   "source": [
    "# GRIP TASK 1\n",
    "\n"
   ]
  },
  {
   "cell_type": "markdown",
   "id": "e8b4e010",
   "metadata": {},
   "source": [
    "TASK - PREDICTION USING SUPERVISED MACHINE LEARNING"
   ]
  },
  {
   "cell_type": "markdown",
   "id": "33fcb236",
   "metadata": {},
   "source": [
    "# AIM: "
   ]
  },
  {
   "cell_type": "markdown",
   "id": "56802382",
   "metadata": {},
   "source": [
    "1. Predict the percentage of an student based on the no. of study hours.\n",
    "2. What will be predicted score if a student studies for 9.25 hrs/ day?"
   ]
  },
  {
   "cell_type": "markdown",
   "id": "bfba48d8",
   "metadata": {},
   "source": [
    "ALGORITHM - Simple Linear Regression"
   ]
  },
  {
   "cell_type": "markdown",
   "id": "e2ffa117",
   "metadata": {},
   "source": [
    "# STEP 1 - To import all the required libraries"
   ]
  },
  {
   "cell_type": "code",
   "execution_count": 5,
   "id": "e8b7ab5f",
   "metadata": {},
   "outputs": [],
   "source": [
    "import pandas as pd\n",
    "import numpy as np\n",
    "import matplotlib.pyplot as mpl\n",
    "%matplotlib inline \n",
    "import seaborn as sb\n",
    "sb.set()\n",
    "from sklearn.linear_model import LinearRegression\n"
   ]
  },
  {
   "cell_type": "markdown",
   "id": "73f1e96f",
   "metadata": {},
   "source": [
    "# STEP 2 - Retrieving Data from the Link\n"
   ]
  },
  {
   "cell_type": "code",
   "execution_count": 6,
   "id": "f5ab62d4",
   "metadata": {},
   "outputs": [
    {
     "data": {
      "text/html": [
       "<div>\n",
       "<style scoped>\n",
       "    .dataframe tbody tr th:only-of-type {\n",
       "        vertical-align: middle;\n",
       "    }\n",
       "\n",
       "    .dataframe tbody tr th {\n",
       "        vertical-align: top;\n",
       "    }\n",
       "\n",
       "    .dataframe thead th {\n",
       "        text-align: right;\n",
       "    }\n",
       "</style>\n",
       "<table border=\"1\" class=\"dataframe\">\n",
       "  <thead>\n",
       "    <tr style=\"text-align: right;\">\n",
       "      <th></th>\n",
       "      <th>Hours</th>\n",
       "      <th>Scores</th>\n",
       "    </tr>\n",
       "  </thead>\n",
       "  <tbody>\n",
       "    <tr>\n",
       "      <th>0</th>\n",
       "      <td>2.5</td>\n",
       "      <td>21</td>\n",
       "    </tr>\n",
       "    <tr>\n",
       "      <th>1</th>\n",
       "      <td>5.1</td>\n",
       "      <td>47</td>\n",
       "    </tr>\n",
       "    <tr>\n",
       "      <th>2</th>\n",
       "      <td>3.2</td>\n",
       "      <td>27</td>\n",
       "    </tr>\n",
       "    <tr>\n",
       "      <th>3</th>\n",
       "      <td>8.5</td>\n",
       "      <td>75</td>\n",
       "    </tr>\n",
       "    <tr>\n",
       "      <th>4</th>\n",
       "      <td>3.5</td>\n",
       "      <td>30</td>\n",
       "    </tr>\n",
       "  </tbody>\n",
       "</table>\n",
       "</div>"
      ],
      "text/plain": [
       "   Hours  Scores\n",
       "0    2.5      21\n",
       "1    5.1      47\n",
       "2    3.2      27\n",
       "3    8.5      75\n",
       "4    3.5      30"
      ]
     },
     "execution_count": 6,
     "metadata": {},
     "output_type": "execute_result"
    }
   ],
   "source": [
    "link = \"http://bit.ly/w-data\"\n",
    "task_data = pd.read_csv(link)\n",
    "task_data.head()"
   ]
  },
  {
   "cell_type": "code",
   "execution_count": 9,
   "id": "62881d9a",
   "metadata": {},
   "outputs": [
    {
     "data": {
      "text/html": [
       "<div>\n",
       "<style scoped>\n",
       "    .dataframe tbody tr th:only-of-type {\n",
       "        vertical-align: middle;\n",
       "    }\n",
       "\n",
       "    .dataframe tbody tr th {\n",
       "        vertical-align: top;\n",
       "    }\n",
       "\n",
       "    .dataframe thead th {\n",
       "        text-align: right;\n",
       "    }\n",
       "</style>\n",
       "<table border=\"1\" class=\"dataframe\">\n",
       "  <thead>\n",
       "    <tr style=\"text-align: right;\">\n",
       "      <th></th>\n",
       "      <th>Hours</th>\n",
       "      <th>Scores</th>\n",
       "    </tr>\n",
       "  </thead>\n",
       "  <tbody>\n",
       "    <tr>\n",
       "      <th>count</th>\n",
       "      <td>25.000000</td>\n",
       "      <td>25.000000</td>\n",
       "    </tr>\n",
       "    <tr>\n",
       "      <th>mean</th>\n",
       "      <td>5.012000</td>\n",
       "      <td>51.480000</td>\n",
       "    </tr>\n",
       "    <tr>\n",
       "      <th>std</th>\n",
       "      <td>2.525094</td>\n",
       "      <td>25.286887</td>\n",
       "    </tr>\n",
       "    <tr>\n",
       "      <th>min</th>\n",
       "      <td>1.100000</td>\n",
       "      <td>17.000000</td>\n",
       "    </tr>\n",
       "    <tr>\n",
       "      <th>25%</th>\n",
       "      <td>2.700000</td>\n",
       "      <td>30.000000</td>\n",
       "    </tr>\n",
       "    <tr>\n",
       "      <th>50%</th>\n",
       "      <td>4.800000</td>\n",
       "      <td>47.000000</td>\n",
       "    </tr>\n",
       "    <tr>\n",
       "      <th>75%</th>\n",
       "      <td>7.400000</td>\n",
       "      <td>75.000000</td>\n",
       "    </tr>\n",
       "    <tr>\n",
       "      <th>max</th>\n",
       "      <td>9.200000</td>\n",
       "      <td>95.000000</td>\n",
       "    </tr>\n",
       "  </tbody>\n",
       "</table>\n",
       "</div>"
      ],
      "text/plain": [
       "           Hours     Scores\n",
       "count  25.000000  25.000000\n",
       "mean    5.012000  51.480000\n",
       "std     2.525094  25.286887\n",
       "min     1.100000  17.000000\n",
       "25%     2.700000  30.000000\n",
       "50%     4.800000  47.000000\n",
       "75%     7.400000  75.000000\n",
       "max     9.200000  95.000000"
      ]
     },
     "execution_count": 9,
     "metadata": {},
     "output_type": "execute_result"
    }
   ],
   "source": [
    "task_data.describe()"
   ]
  },
  {
   "cell_type": "markdown",
   "id": "657a5980",
   "metadata": {},
   "source": [
    "# STEP 3 - Plotting the Data on a 2D - Graph"
   ]
  },
  {
   "cell_type": "code",
   "execution_count": 12,
   "id": "76fe054e",
   "metadata": {},
   "outputs": [
    {
     "data": {
      "image/png": "[encoded data removed]",
      "text/plain": [
       "<Figure size 432x288 with 1 Axes>"
      ]
     },
     "metadata": {},
     "output_type": "display_data"
    }
   ],
   "source": [
    "task_data.plot(x = 'Hours' , y = 'Scores' , style = 'o')\n",
    "mpl.title('Hours and Percentage Studied')\n",
    "mpl.xlabel('Hours Studied')\n",
    "mpl.ylabel('Percentage Studied')\n",
    "mpl.show()"
   ]
  },
  {
   "cell_type": "markdown",
   "id": "28fdb9f0",
   "metadata": {},
   "source": [
    "This graph clearly shows the positive linear relation between the hours studied and the percentage of score acquired.\n",
    "\n",
    "Thus, this concludes our first aim."
   ]
  },
  {
   "cell_type": "markdown",
   "id": "686c0b46",
   "metadata": {},
   "source": [
    "# STEP 4 - Preparing the Data"
   ]
  },
  {
   "cell_type": "code",
   "execution_count": 14,
   "id": "c3299ee4",
   "metadata": {},
   "outputs": [],
   "source": [
    "x = task_data.iloc[:, :-1].values\n",
    "y = task_data.iloc[:, 1].values"
   ]
  },
  {
   "cell_type": "code",
   "execution_count": 19,
   "id": "0523591b",
   "metadata": {},
   "outputs": [],
   "source": [
    "from sklearn.model_selection import train_test_split\n",
    "x_train, x_test, y_train, y_test = train_test_split(x , y, \n",
    "                                                    test_size = 0.2, random_state = 0)"
   ]
  },
  {
   "cell_type": "markdown",
   "id": "48b243e7",
   "metadata": {},
   "source": [
    "# STEP 5 - Training the Algorithm"
   ]
  },
  {
   "cell_type": "code",
   "execution_count": 20,
   "id": "f6440e6d",
   "metadata": {},
   "outputs": [
    {
     "data": {
      "text/plain": [
       "LinearRegression()"
      ]
     },
     "execution_count": 20,
     "metadata": {},
     "output_type": "execute_result"
    }
   ],
   "source": [
    "from sklearn.linear_model import LinearRegression\n",
    "regressor = LinearRegression()\n",
    "regressor.fit(x_train, y_train)"
   ]
  },
  {
   "cell_type": "markdown",
   "id": "47c8d091",
   "metadata": {},
   "source": [
    "# STEP 6 - Plotting the Regression Line"
   ]
  },
  {
   "cell_type": "code",
   "execution_count": 22,
   "id": "4cfd1f92",
   "metadata": {},
   "outputs": [
    {
     "data": {
      "image/png": "[encoded data removed]",
      "text/plain": [
       "<Figure size 432x288 with 1 Axes>"
      ]
     },
     "metadata": {},
     "output_type": "display_data"
    }
   ],
   "source": [
    "line = regressor.coef_*x+regressor.intercept_\n",
    "mpl.scatter (x,y)\n",
    "mpl.plot(x, line);\n",
    "mpl.show()"
   ]
  },
  {
   "cell_type": "markdown",
   "id": "132b0db8",
   "metadata": {},
   "source": [
    "# STEP 7 - Predictions"
   ]
  },
  {
   "cell_type": "code",
   "execution_count": 23,
   "id": "ae4963cf",
   "metadata": {},
   "outputs": [
    {
     "name": "stdout",
     "output_type": "stream",
     "text": [
      "[[1.5]\n",
      " [3.2]\n",
      " [7.4]\n",
      " [2.5]\n",
      " [5.9]]\n"
     ]
    }
   ],
   "source": [
    "print(x_test)\n",
    "y_pred = regressor.predict(x_test)"
   ]
  },
  {
   "cell_type": "markdown",
   "id": "52493d17",
   "metadata": {},
   "source": [
    "As we have now received the predicted values, next step is to compare the actual and the predicted values.\n"
   ]
  },
  {
   "cell_type": "code",
   "execution_count": 24,
   "id": "3770413f",
   "metadata": {},
   "outputs": [
    {
     "data": {
      "text/html": [
       "<div>\n",
       "<style scoped>\n",
       "    .dataframe tbody tr th:only-of-type {\n",
       "        vertical-align: middle;\n",
       "    }\n",
       "\n",
       "    .dataframe tbody tr th {\n",
       "        vertical-align: top;\n",
       "    }\n",
       "\n",
       "    .dataframe thead th {\n",
       "        text-align: right;\n",
       "    }\n",
       "</style>\n",
       "<table border=\"1\" class=\"dataframe\">\n",
       "  <thead>\n",
       "    <tr style=\"text-align: right;\">\n",
       "      <th></th>\n",
       "      <th>Actual</th>\n",
       "      <th>Predicted</th>\n",
       "    </tr>\n",
       "  </thead>\n",
       "  <tbody>\n",
       "    <tr>\n",
       "      <th>0</th>\n",
       "      <td>20</td>\n",
       "      <td>16.884145</td>\n",
       "    </tr>\n",
       "    <tr>\n",
       "      <th>1</th>\n",
       "      <td>27</td>\n",
       "      <td>33.732261</td>\n",
       "    </tr>\n",
       "    <tr>\n",
       "      <th>2</th>\n",
       "      <td>69</td>\n",
       "      <td>75.357018</td>\n",
       "    </tr>\n",
       "    <tr>\n",
       "      <th>3</th>\n",
       "      <td>30</td>\n",
       "      <td>26.794801</td>\n",
       "    </tr>\n",
       "    <tr>\n",
       "      <th>4</th>\n",
       "      <td>62</td>\n",
       "      <td>60.491033</td>\n",
       "    </tr>\n",
       "  </tbody>\n",
       "</table>\n",
       "</div>"
      ],
      "text/plain": [
       "   Actual  Predicted\n",
       "0      20  16.884145\n",
       "1      27  33.732261\n",
       "2      69  75.357018\n",
       "3      30  26.794801\n",
       "4      62  60.491033"
      ]
     },
     "execution_count": 24,
     "metadata": {},
     "output_type": "execute_result"
    }
   ],
   "source": [
    "df = pd.DataFrame ({'Actual' : y_test, 'Predicted' : y_pred})\n",
    "df"
   ]
  },
  {
   "cell_type": "markdown",
   "id": "3a1c9b3c",
   "metadata": {},
   "source": [
    "# STEP 8 - Predicting the score of the student who studied 9.25 hrs in a day"
   ]
  },
  {
   "cell_type": "code",
   "execution_count": 25,
   "id": "580cde90",
   "metadata": {},
   "outputs": [],
   "source": [
    "hours = 9.25\n",
    "my_pred = regressor.predict (np.array([hours]).reshape(1,1))"
   ]
  },
  {
   "cell_type": "code",
   "execution_count": 26,
   "id": "7a915178",
   "metadata": {},
   "outputs": [
    {
     "name": "stdout",
     "output_type": "stream",
     "text": [
      "Number of hours = 9.25\n",
      "Predicted Score = 93.69173248737538\n"
     ]
    }
   ],
   "source": [
    "print (\"Number of hours = {}\" . format(hours))\n",
    "print (\"Predicted Score = {}\" . format(my_pred[0]))"
   ]
  },
  {
   "cell_type": "markdown",
   "id": "22fc1d33",
   "metadata": {},
   "source": [
    "# STEP 9 - Evaluating the Model"
   ]
  },
  {
   "cell_type": "markdown",
   "id": "3e34e186",
   "metadata": {},
   "source": [
    "Now, the final step is to evaluate the performance of the algorithm. This steps helps to understand how different algorithms perform on different datasets. For better and easy understanding I used Mean Square Error Method."
   ]
  },
  {
   "cell_type": "code",
   "execution_count": 27,
   "id": "07c0b7e5",
   "metadata": {},
   "outputs": [
    {
     "name": "stdout",
     "output_type": "stream",
     "text": [
      "Mean Square Error : 4.183859899002975\n"
     ]
    }
   ],
   "source": [
    "from sklearn import metrics\n",
    "print ('Mean Square Error :', metrics.mean_absolute_error(y_test, y_pred))"
   ]
  }
 ],
 "metadata": {
  "kernelspec": {
   "display_name": "Python 3",
   "language": "python",
   "name": "python3"
  },
  "language_info": {
   "codemirror_mode": {
    "name": "ipython",
    "version": 3
   },
   "file_extension": ".py",
   "mimetype": "text/x-python",
   "name": "python",
   "nbconvert_exporter": "python",
   "pygments_lexer": "ipython3",
   "version": "3.8.8"
  }
 },
 "nbformat": 4,
 "nbformat_minor": 5
}
